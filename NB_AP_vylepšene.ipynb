{
 "cells": [
  {
   "cell_type": "code",
   "execution_count": 1,
   "metadata": {},
   "outputs": [
    {
     "name": "stderr",
     "output_type": "stream",
     "text": [
      "/var/folders/lc/0tq3t3m97j18yp2pgzc9h2vw0000gn/T/ipykernel_14216/1858439271.py:1: DeprecationWarning: \n",
      "Pyarrow will become a required dependency of pandas in the next major release of pandas (pandas 3.0),\n",
      "(to allow more performant data types, such as the Arrow string type, and better interoperability with other libraries)\n",
      "but was not found to be installed on your system.\n",
      "If this would cause problems for you,\n",
      "please provide us feedback at https://github.com/pandas-dev/pandas/issues/54466\n",
      "        \n",
      "  import pandas as pd\n"
     ]
    }
   ],
   "source": [
    "import pandas as pd\n",
    "import numpy as np\n",
    "import datetime as dt\n",
    "import matplotlib.pyplot as plt\n",
    "%matplotlib inline\n",
    "import seaborn as sns\n",
    "sns.set()\n",
    "# importovanie potrebných knižníc\n",
    "\n",
    "from sklearn.model_selection import train_test_split\n",
    "from sklearn.metrics import classification_report, confusion_matrix,  RocCurveDisplay, roc_curve, roc_auc_score\n",
    "from sklearn.preprocessing import MinMaxScaler\n",
    "from imblearn.over_sampling import ADASYN\n",
    "from sklearn.naive_bayes import GaussianNB\n",
    "\n",
    "from sklearn.metrics import f1_score, recall_score, accuracy_score, precision_score, classification_report"
   ]
  },
  {
   "cell_type": "code",
   "execution_count": 2,
   "metadata": {},
   "outputs": [
    {
     "name": "stdout",
     "output_type": "stream",
     "text": [
      "Requirement already satisfied: mlxtend in /opt/homebrew/lib/python3.11/site-packages (0.23.1)\n",
      "Requirement already satisfied: scipy>=1.2.1 in /opt/homebrew/lib/python3.11/site-packages (from mlxtend) (1.12.0)\n",
      "Requirement already satisfied: numpy>=1.16.2 in /opt/homebrew/lib/python3.11/site-packages (from mlxtend) (1.26.4)\n",
      "Requirement already satisfied: pandas>=0.24.2 in /opt/homebrew/lib/python3.11/site-packages (from mlxtend) (2.2.0)\n",
      "Requirement already satisfied: scikit-learn>=1.0.2 in /opt/homebrew/lib/python3.11/site-packages (from mlxtend) (1.4.1.post1)\n",
      "Requirement already satisfied: matplotlib>=3.0.0 in /opt/homebrew/lib/python3.11/site-packages (from mlxtend) (3.8.3)\n",
      "Requirement already satisfied: joblib>=0.13.2 in /opt/homebrew/lib/python3.11/site-packages (from mlxtend) (1.3.2)\n",
      "Requirement already satisfied: contourpy>=1.0.1 in /opt/homebrew/lib/python3.11/site-packages (from matplotlib>=3.0.0->mlxtend) (1.2.0)\n",
      "Requirement already satisfied: cycler>=0.10 in /opt/homebrew/lib/python3.11/site-packages (from matplotlib>=3.0.0->mlxtend) (0.12.1)\n",
      "Requirement already satisfied: fonttools>=4.22.0 in /opt/homebrew/lib/python3.11/site-packages (from matplotlib>=3.0.0->mlxtend) (4.49.0)\n",
      "Requirement already satisfied: kiwisolver>=1.3.1 in /opt/homebrew/lib/python3.11/site-packages (from matplotlib>=3.0.0->mlxtend) (1.4.5)\n",
      "Requirement already satisfied: packaging>=20.0 in /Users/vanesa/Library/Python/3.11/lib/python/site-packages (from matplotlib>=3.0.0->mlxtend) (23.2)\n",
      "Requirement already satisfied: pillow>=8 in /opt/homebrew/lib/python3.11/site-packages (from matplotlib>=3.0.0->mlxtend) (10.2.0)\n",
      "Requirement already satisfied: pyparsing>=2.3.1 in /opt/homebrew/lib/python3.11/site-packages (from matplotlib>=3.0.0->mlxtend) (3.1.1)\n",
      "Requirement already satisfied: python-dateutil>=2.7 in /Users/vanesa/Library/Python/3.11/lib/python/site-packages (from matplotlib>=3.0.0->mlxtend) (2.8.2)\n",
      "Requirement already satisfied: pytz>=2020.1 in /opt/homebrew/lib/python3.11/site-packages (from pandas>=0.24.2->mlxtend) (2024.1)\n",
      "Requirement already satisfied: tzdata>=2022.7 in /opt/homebrew/lib/python3.11/site-packages (from pandas>=0.24.2->mlxtend) (2024.1)\n",
      "Requirement already satisfied: threadpoolctl>=2.0.0 in /opt/homebrew/lib/python3.11/site-packages (from scikit-learn>=1.0.2->mlxtend) (3.3.0)\n",
      "Requirement already satisfied: six>=1.5 in /Users/vanesa/Library/Python/3.11/lib/python/site-packages (from python-dateutil>=2.7->matplotlib>=3.0.0->mlxtend) (1.16.0)\n",
      "Note: you may need to restart the kernel to use updated packages.\n",
      "\n",
      "Usage:   \n",
      "  /opt/homebrew/opt/python@3.11/bin/python3.11 -m pip install [options] <requirement specifier> [package-index-options] ...\n",
      "  /opt/homebrew/opt/python@3.11/bin/python3.11 -m pip install [options] -r <requirements file> [package-index-options] ...\n",
      "  /opt/homebrew/opt/python@3.11/bin/python3.11 -m pip install [options] [-e] <vcs project url> ...\n",
      "  /opt/homebrew/opt/python@3.11/bin/python3.11 -m pip install [options] [-e] <local project path> ...\n",
      "  /opt/homebrew/opt/python@3.11/bin/python3.11 -m pip install [options] <archive url/path> ...\n",
      "\n",
      "no such option: -u\n",
      "Note: you may need to restart the kernel to use updated packages.\n",
      "Requirement already satisfied: networkx in /opt/homebrew/lib/python3.11/site-packages (3.3)\n",
      "Note: you may need to restart the kernel to use updated packages.\n"
     ]
    }
   ],
   "source": [
    "# inštalácia balíkov python\n",
    "%pip install mlxtend\n",
    "%pip install - -upgrade pip\n",
    "%pip install networkx"
   ]
  },
  {
   "cell_type": "code",
   "execution_count": 3,
   "metadata": {},
   "outputs": [
    {
     "data": {
      "text/html": [
       "<div>\n",
       "<style scoped>\n",
       "    .dataframe tbody tr th:only-of-type {\n",
       "        vertical-align: middle;\n",
       "    }\n",
       "\n",
       "    .dataframe tbody tr th {\n",
       "        vertical-align: top;\n",
       "    }\n",
       "\n",
       "    .dataframe thead th {\n",
       "        text-align: right;\n",
       "    }\n",
       "</style>\n",
       "<table border=\"1\" class=\"dataframe\">\n",
       "  <thead>\n",
       "    <tr style=\"text-align: right;\">\n",
       "      <th></th>\n",
       "      <th>id</th>\n",
       "      <th>gender</th>\n",
       "      <th>age</th>\n",
       "      <th>hypertension</th>\n",
       "      <th>heart_disease</th>\n",
       "      <th>ever_married</th>\n",
       "      <th>work_type</th>\n",
       "      <th>Residence_type</th>\n",
       "      <th>avg_glucose_level</th>\n",
       "      <th>bmi</th>\n",
       "      <th>smoking_status</th>\n",
       "      <th>stroke</th>\n",
       "    </tr>\n",
       "  </thead>\n",
       "  <tbody>\n",
       "    <tr>\n",
       "      <th>0</th>\n",
       "      <td>9046</td>\n",
       "      <td>Male</td>\n",
       "      <td>67.0</td>\n",
       "      <td>0</td>\n",
       "      <td>1</td>\n",
       "      <td>Yes</td>\n",
       "      <td>Private</td>\n",
       "      <td>Urban</td>\n",
       "      <td>228.69</td>\n",
       "      <td>36.6</td>\n",
       "      <td>formerly smoked</td>\n",
       "      <td>1</td>\n",
       "    </tr>\n",
       "    <tr>\n",
       "      <th>1</th>\n",
       "      <td>51676</td>\n",
       "      <td>Female</td>\n",
       "      <td>61.0</td>\n",
       "      <td>0</td>\n",
       "      <td>0</td>\n",
       "      <td>Yes</td>\n",
       "      <td>Self-employed</td>\n",
       "      <td>Rural</td>\n",
       "      <td>202.21</td>\n",
       "      <td>NaN</td>\n",
       "      <td>never smoked</td>\n",
       "      <td>1</td>\n",
       "    </tr>\n",
       "    <tr>\n",
       "      <th>2</th>\n",
       "      <td>31112</td>\n",
       "      <td>Male</td>\n",
       "      <td>80.0</td>\n",
       "      <td>0</td>\n",
       "      <td>1</td>\n",
       "      <td>Yes</td>\n",
       "      <td>Private</td>\n",
       "      <td>Rural</td>\n",
       "      <td>105.92</td>\n",
       "      <td>32.5</td>\n",
       "      <td>never smoked</td>\n",
       "      <td>1</td>\n",
       "    </tr>\n",
       "    <tr>\n",
       "      <th>3</th>\n",
       "      <td>60182</td>\n",
       "      <td>Female</td>\n",
       "      <td>49.0</td>\n",
       "      <td>0</td>\n",
       "      <td>0</td>\n",
       "      <td>Yes</td>\n",
       "      <td>Private</td>\n",
       "      <td>Urban</td>\n",
       "      <td>171.23</td>\n",
       "      <td>34.4</td>\n",
       "      <td>smokes</td>\n",
       "      <td>1</td>\n",
       "    </tr>\n",
       "    <tr>\n",
       "      <th>4</th>\n",
       "      <td>1665</td>\n",
       "      <td>Female</td>\n",
       "      <td>79.0</td>\n",
       "      <td>1</td>\n",
       "      <td>0</td>\n",
       "      <td>Yes</td>\n",
       "      <td>Self-employed</td>\n",
       "      <td>Rural</td>\n",
       "      <td>174.12</td>\n",
       "      <td>24.0</td>\n",
       "      <td>never smoked</td>\n",
       "      <td>1</td>\n",
       "    </tr>\n",
       "    <tr>\n",
       "      <th>...</th>\n",
       "      <td>...</td>\n",
       "      <td>...</td>\n",
       "      <td>...</td>\n",
       "      <td>...</td>\n",
       "      <td>...</td>\n",
       "      <td>...</td>\n",
       "      <td>...</td>\n",
       "      <td>...</td>\n",
       "      <td>...</td>\n",
       "      <td>...</td>\n",
       "      <td>...</td>\n",
       "      <td>...</td>\n",
       "    </tr>\n",
       "    <tr>\n",
       "      <th>5105</th>\n",
       "      <td>18234</td>\n",
       "      <td>Female</td>\n",
       "      <td>80.0</td>\n",
       "      <td>1</td>\n",
       "      <td>0</td>\n",
       "      <td>Yes</td>\n",
       "      <td>Private</td>\n",
       "      <td>Urban</td>\n",
       "      <td>83.75</td>\n",
       "      <td>NaN</td>\n",
       "      <td>never smoked</td>\n",
       "      <td>0</td>\n",
       "    </tr>\n",
       "    <tr>\n",
       "      <th>5106</th>\n",
       "      <td>44873</td>\n",
       "      <td>Female</td>\n",
       "      <td>81.0</td>\n",
       "      <td>0</td>\n",
       "      <td>0</td>\n",
       "      <td>Yes</td>\n",
       "      <td>Self-employed</td>\n",
       "      <td>Urban</td>\n",
       "      <td>125.20</td>\n",
       "      <td>40.0</td>\n",
       "      <td>never smoked</td>\n",
       "      <td>0</td>\n",
       "    </tr>\n",
       "    <tr>\n",
       "      <th>5107</th>\n",
       "      <td>19723</td>\n",
       "      <td>Female</td>\n",
       "      <td>35.0</td>\n",
       "      <td>0</td>\n",
       "      <td>0</td>\n",
       "      <td>Yes</td>\n",
       "      <td>Self-employed</td>\n",
       "      <td>Rural</td>\n",
       "      <td>82.99</td>\n",
       "      <td>30.6</td>\n",
       "      <td>never smoked</td>\n",
       "      <td>0</td>\n",
       "    </tr>\n",
       "    <tr>\n",
       "      <th>5108</th>\n",
       "      <td>37544</td>\n",
       "      <td>Male</td>\n",
       "      <td>51.0</td>\n",
       "      <td>0</td>\n",
       "      <td>0</td>\n",
       "      <td>Yes</td>\n",
       "      <td>Private</td>\n",
       "      <td>Rural</td>\n",
       "      <td>166.29</td>\n",
       "      <td>25.6</td>\n",
       "      <td>formerly smoked</td>\n",
       "      <td>0</td>\n",
       "    </tr>\n",
       "    <tr>\n",
       "      <th>5109</th>\n",
       "      <td>44679</td>\n",
       "      <td>Female</td>\n",
       "      <td>44.0</td>\n",
       "      <td>0</td>\n",
       "      <td>0</td>\n",
       "      <td>Yes</td>\n",
       "      <td>Govt_job</td>\n",
       "      <td>Urban</td>\n",
       "      <td>85.28</td>\n",
       "      <td>26.2</td>\n",
       "      <td>Unknown</td>\n",
       "      <td>0</td>\n",
       "    </tr>\n",
       "  </tbody>\n",
       "</table>\n",
       "<p>5110 rows × 12 columns</p>\n",
       "</div>"
      ],
      "text/plain": [
       "         id  gender   age  hypertension  heart_disease ever_married  \\\n",
       "0      9046    Male  67.0             0              1          Yes   \n",
       "1     51676  Female  61.0             0              0          Yes   \n",
       "2     31112    Male  80.0             0              1          Yes   \n",
       "3     60182  Female  49.0             0              0          Yes   \n",
       "4      1665  Female  79.0             1              0          Yes   \n",
       "...     ...     ...   ...           ...            ...          ...   \n",
       "5105  18234  Female  80.0             1              0          Yes   \n",
       "5106  44873  Female  81.0             0              0          Yes   \n",
       "5107  19723  Female  35.0             0              0          Yes   \n",
       "5108  37544    Male  51.0             0              0          Yes   \n",
       "5109  44679  Female  44.0             0              0          Yes   \n",
       "\n",
       "          work_type Residence_type  avg_glucose_level   bmi   smoking_status  \\\n",
       "0           Private          Urban             228.69  36.6  formerly smoked   \n",
       "1     Self-employed          Rural             202.21   NaN     never smoked   \n",
       "2           Private          Rural             105.92  32.5     never smoked   \n",
       "3           Private          Urban             171.23  34.4           smokes   \n",
       "4     Self-employed          Rural             174.12  24.0     never smoked   \n",
       "...             ...            ...                ...   ...              ...   \n",
       "5105        Private          Urban              83.75   NaN     never smoked   \n",
       "5106  Self-employed          Urban             125.20  40.0     never smoked   \n",
       "5107  Self-employed          Rural              82.99  30.6     never smoked   \n",
       "5108        Private          Rural             166.29  25.6  formerly smoked   \n",
       "5109       Govt_job          Urban              85.28  26.2          Unknown   \n",
       "\n",
       "      stroke  \n",
       "0          1  \n",
       "1          1  \n",
       "2          1  \n",
       "3          1  \n",
       "4          1  \n",
       "...      ...  \n",
       "5105       0  \n",
       "5106       0  \n",
       "5107       0  \n",
       "5108       0  \n",
       "5109       0  \n",
       "\n",
       "[5110 rows x 12 columns]"
      ]
     },
     "execution_count": 3,
     "metadata": {},
     "output_type": "execute_result"
    }
   ],
   "source": [
    "# načitanie datasetu\n",
    "df = pd.read_csv(\"stroke_data.csv\")\n",
    "df"
   ]
  },
  {
   "cell_type": "code",
   "execution_count": 4,
   "metadata": {},
   "outputs": [],
   "source": [
    "# odstránenie stĺpca \"id\"\n",
    "df = df.drop(columns=['id'])"
   ]
  },
  {
   "cell_type": "code",
   "execution_count": 5,
   "metadata": {},
   "outputs": [],
   "source": [
    "# premenovanie atribútov z angličtiny do slovenčiny\n",
    "df = df.rename(columns={'age': 'vek'})\n",
    "df = df.rename(columns={'heart_disease': 'srdcova_choroba'})\n",
    "df = df.rename(columns={'work_type': 'typ_prace'})\n",
    "df = df.rename(columns={'smoking_status': 'fajcenie'})\n",
    "df = df.rename(columns={'stroke': 'mrtvica'})\n",
    "df = df.rename(columns={'Residence_type': 'typ_rezidencie'})\n",
    "df = df.rename(columns={'avg_glucose_level': 'priemerna_hladina_glukozy'})\n",
    "df = df.rename(columns={'gender': 'pohlavie'})\n",
    "df = df.rename(columns={'ever_married': 'manželstvo'})\n",
    "df = df.rename(columns={'hypertension': 'krvny_tlak'})"
   ]
  },
  {
   "cell_type": "code",
   "execution_count": 6,
   "metadata": {},
   "outputs": [
    {
     "data": {
      "text/html": [
       "<div>\n",
       "<style scoped>\n",
       "    .dataframe tbody tr th:only-of-type {\n",
       "        vertical-align: middle;\n",
       "    }\n",
       "\n",
       "    .dataframe tbody tr th {\n",
       "        vertical-align: top;\n",
       "    }\n",
       "\n",
       "    .dataframe thead th {\n",
       "        text-align: right;\n",
       "    }\n",
       "</style>\n",
       "<table border=\"1\" class=\"dataframe\">\n",
       "  <thead>\n",
       "    <tr style=\"text-align: right;\">\n",
       "      <th></th>\n",
       "      <th>pohlavie</th>\n",
       "      <th>vek</th>\n",
       "      <th>krvny_tlak</th>\n",
       "      <th>srdcova_choroba</th>\n",
       "      <th>manželstvo</th>\n",
       "      <th>typ_prace</th>\n",
       "      <th>typ_rezidencie</th>\n",
       "      <th>priemerna_hladina_glukozy</th>\n",
       "      <th>bmi</th>\n",
       "      <th>fajcenie</th>\n",
       "      <th>mrtvica</th>\n",
       "    </tr>\n",
       "  </thead>\n",
       "  <tbody>\n",
       "    <tr>\n",
       "      <th>0</th>\n",
       "      <td>Male</td>\n",
       "      <td>67.0</td>\n",
       "      <td>0</td>\n",
       "      <td>1</td>\n",
       "      <td>Yes</td>\n",
       "      <td>Private</td>\n",
       "      <td>Urban</td>\n",
       "      <td>228.69</td>\n",
       "      <td>36.6</td>\n",
       "      <td>formerly smoked</td>\n",
       "      <td>1</td>\n",
       "    </tr>\n",
       "    <tr>\n",
       "      <th>1</th>\n",
       "      <td>Female</td>\n",
       "      <td>61.0</td>\n",
       "      <td>0</td>\n",
       "      <td>0</td>\n",
       "      <td>Yes</td>\n",
       "      <td>Self-employed</td>\n",
       "      <td>Rural</td>\n",
       "      <td>202.21</td>\n",
       "      <td>NaN</td>\n",
       "      <td>never smoked</td>\n",
       "      <td>1</td>\n",
       "    </tr>\n",
       "    <tr>\n",
       "      <th>2</th>\n",
       "      <td>Male</td>\n",
       "      <td>80.0</td>\n",
       "      <td>0</td>\n",
       "      <td>1</td>\n",
       "      <td>Yes</td>\n",
       "      <td>Private</td>\n",
       "      <td>Rural</td>\n",
       "      <td>105.92</td>\n",
       "      <td>32.5</td>\n",
       "      <td>never smoked</td>\n",
       "      <td>1</td>\n",
       "    </tr>\n",
       "    <tr>\n",
       "      <th>3</th>\n",
       "      <td>Female</td>\n",
       "      <td>49.0</td>\n",
       "      <td>0</td>\n",
       "      <td>0</td>\n",
       "      <td>Yes</td>\n",
       "      <td>Private</td>\n",
       "      <td>Urban</td>\n",
       "      <td>171.23</td>\n",
       "      <td>34.4</td>\n",
       "      <td>smokes</td>\n",
       "      <td>1</td>\n",
       "    </tr>\n",
       "    <tr>\n",
       "      <th>4</th>\n",
       "      <td>Female</td>\n",
       "      <td>79.0</td>\n",
       "      <td>1</td>\n",
       "      <td>0</td>\n",
       "      <td>Yes</td>\n",
       "      <td>Self-employed</td>\n",
       "      <td>Rural</td>\n",
       "      <td>174.12</td>\n",
       "      <td>24.0</td>\n",
       "      <td>never smoked</td>\n",
       "      <td>1</td>\n",
       "    </tr>\n",
       "  </tbody>\n",
       "</table>\n",
       "</div>"
      ],
      "text/plain": [
       "  pohlavie   vek  krvny_tlak  srdcova_choroba manželstvo      typ_prace  \\\n",
       "0     Male  67.0           0                1        Yes        Private   \n",
       "1   Female  61.0           0                0        Yes  Self-employed   \n",
       "2     Male  80.0           0                1        Yes        Private   \n",
       "3   Female  49.0           0                0        Yes        Private   \n",
       "4   Female  79.0           1                0        Yes  Self-employed   \n",
       "\n",
       "  typ_rezidencie  priemerna_hladina_glukozy   bmi         fajcenie  mrtvica  \n",
       "0          Urban                     228.69  36.6  formerly smoked        1  \n",
       "1          Rural                     202.21   NaN     never smoked        1  \n",
       "2          Rural                     105.92  32.5     never smoked        1  \n",
       "3          Urban                     171.23  34.4           smokes        1  \n",
       "4          Rural                     174.12  24.0     never smoked        1  "
      ]
     },
     "execution_count": 6,
     "metadata": {},
     "output_type": "execute_result"
    }
   ],
   "source": [
    "# zobrazenie prvých 5 riadkov datasetu\n",
    "df.head(5)"
   ]
  },
  {
   "cell_type": "code",
   "execution_count": 7,
   "metadata": {},
   "outputs": [
    {
     "data": {
      "text/plain": [
       "mrtvica\n",
       "0    4861\n",
       "1     249\n",
       "Name: count, dtype: int64"
      ]
     },
     "execution_count": 7,
     "metadata": {},
     "output_type": "execute_result"
    }
   ],
   "source": [
    "# spočítanie jednotlivých hodnôt atribútu mrtvica\n",
    "df.mrtvica.value_counts()"
   ]
  },
  {
   "cell_type": "code",
   "execution_count": 8,
   "metadata": {},
   "outputs": [
    {
     "name": "stderr",
     "output_type": "stream",
     "text": [
      "/var/folders/lc/0tq3t3m97j18yp2pgzc9h2vw0000gn/T/ipykernel_14216/3647075269.py:2: FutureWarning: A value is trying to be set on a copy of a DataFrame or Series through chained assignment using an inplace method.\n",
      "The behavior will change in pandas 3.0. This inplace method will never work because the intermediate object on which we are setting values always behaves as a copy.\n",
      "\n",
      "For example, when doing 'df[col].method(value, inplace=True)', try using 'df.method({col: value}, inplace=True)' or df[col] = df[col].method(value) instead, to perform the operation inplace on the original object.\n",
      "\n",
      "\n",
      "  df['bmi'].fillna(df['bmi'].mean(), inplace=True)\n"
     ]
    }
   ],
   "source": [
    "# nahradenie chýbajúcich hodnôt v stĺpci \"bmi\" priemerom všetkých hodnôt v tomto stĺpci\n",
    "df['bmi'].fillna(df['bmi'].mean(), inplace=True)"
   ]
  },
  {
   "cell_type": "code",
   "execution_count": 9,
   "metadata": {},
   "outputs": [
    {
     "name": "stderr",
     "output_type": "stream",
     "text": [
      "/var/folders/lc/0tq3t3m97j18yp2pgzc9h2vw0000gn/T/ipykernel_14216/1893360737.py:3: FutureWarning: Downcasting behavior in `replace` is deprecated and will be removed in a future version. To retain the old behavior, explicitly call `result.infer_objects(copy=False)`. To opt-in to the future behavior, set `pd.set_option('future.no_silent_downcasting', True)`\n",
      "  df[\"manželstvo\"] = df[\"manželstvo\"].replace({\"No\":0, \"Yes\":1})\n",
      "/var/folders/lc/0tq3t3m97j18yp2pgzc9h2vw0000gn/T/ipykernel_14216/1893360737.py:4: FutureWarning: Downcasting behavior in `replace` is deprecated and will be removed in a future version. To retain the old behavior, explicitly call `result.infer_objects(copy=False)`. To opt-in to the future behavior, set `pd.set_option('future.no_silent_downcasting', True)`\n",
      "  df[\"fajcenie\"] = df[\"fajcenie\"].replace({\"Unknown\":0, \"smokes\":1, \"formerly smoked\":2, \"never smoked\":3 })\n",
      "/var/folders/lc/0tq3t3m97j18yp2pgzc9h2vw0000gn/T/ipykernel_14216/1893360737.py:6: FutureWarning: Downcasting behavior in `replace` is deprecated and will be removed in a future version. To retain the old behavior, explicitly call `result.infer_objects(copy=False)`. To opt-in to the future behavior, set `pd.set_option('future.no_silent_downcasting', True)`\n",
      "  df[\"typ_rezidencie\"] = df[\"typ_rezidencie\"].replace({\"Urban\":0, \"Rural\":1})\n"
     ]
    }
   ],
   "source": [
    "# prevedenie textových hodnôt na číselné\n",
    "df[\"pohlavie\"] = df[\"pohlavie\"].replace({\"Male\":0, \"Female\":1})\n",
    "df[\"manželstvo\"] = df[\"manželstvo\"].replace({\"No\":0, \"Yes\":1})\n",
    "df[\"fajcenie\"] = df[\"fajcenie\"].replace({\"Unknown\":0, \"smokes\":1, \"formerly smoked\":2, \"never smoked\":3 })\n",
    "df[\"typ_prace\"] = df[\"typ_prace\"].replace({\"Private\":0, \"Self-employed\":1, \"Govt_job\":2})\n",
    "df[\"typ_rezidencie\"] = df[\"typ_rezidencie\"].replace({\"Urban\":0, \"Rural\":1})"
   ]
  },
  {
   "cell_type": "code",
   "execution_count": 10,
   "metadata": {},
   "outputs": [
    {
     "name": "stdout",
     "output_type": "stream",
     "text": [
      "<class 'pandas.core.frame.DataFrame'>\n",
      "RangeIndex: 5110 entries, 0 to 5109\n",
      "Data columns (total 11 columns):\n",
      " #   Column                     Non-Null Count  Dtype  \n",
      "---  ------                     --------------  -----  \n",
      " 0   pohlavie                   5110 non-null   object \n",
      " 1   vek                        5110 non-null   float64\n",
      " 2   krvny_tlak                 5110 non-null   int64  \n",
      " 3   srdcova_choroba            5110 non-null   int64  \n",
      " 4   manželstvo                 5110 non-null   int64  \n",
      " 5   typ_prace                  5110 non-null   object \n",
      " 6   typ_rezidencie             5110 non-null   int64  \n",
      " 7   priemerna_hladina_glukozy  5110 non-null   float64\n",
      " 8   bmi                        5110 non-null   float64\n",
      " 9   fajcenie                   5110 non-null   int64  \n",
      " 10  mrtvica                    5110 non-null   int64  \n",
      "dtypes: float64(3), int64(6), object(2)\n",
      "memory usage: 439.3+ KB\n"
     ]
    }
   ],
   "source": [
    "# zobrazenie informácií o atribútoch v datasete\n",
    "df.info()"
   ]
  },
  {
   "cell_type": "code",
   "execution_count": 11,
   "metadata": {},
   "outputs": [],
   "source": [
    "# prevod kategorických na číselné hodnoty\n",
    "df['pohlavie'], _ = pd.factorize(df['pohlavie'])\n",
    "df['typ_prace'], _ = pd.factorize(df['typ_prace'])"
   ]
  },
  {
   "cell_type": "code",
   "execution_count": 12,
   "metadata": {},
   "outputs": [],
   "source": [
    "# prevedenie hodnôt na celé čísla\n",
    "df['vek'] = df['vek'].astype('int64')\n",
    "df['priemerna_hladina_glukozy'] = df['priemerna_hladina_glukozy'].astype('int64')\n",
    "df['bmi'] = df['bmi'].astype('int64')"
   ]
  },
  {
   "cell_type": "code",
   "execution_count": 13,
   "metadata": {},
   "outputs": [
    {
     "name": "stdout",
     "output_type": "stream",
     "text": [
      "<class 'pandas.core.frame.DataFrame'>\n",
      "RangeIndex: 5110 entries, 0 to 5109\n",
      "Data columns (total 11 columns):\n",
      " #   Column                     Non-Null Count  Dtype\n",
      "---  ------                     --------------  -----\n",
      " 0   pohlavie                   5110 non-null   int64\n",
      " 1   vek                        5110 non-null   int64\n",
      " 2   krvny_tlak                 5110 non-null   int64\n",
      " 3   srdcova_choroba            5110 non-null   int64\n",
      " 4   manželstvo                 5110 non-null   int64\n",
      " 5   typ_prace                  5110 non-null   int64\n",
      " 6   typ_rezidencie             5110 non-null   int64\n",
      " 7   priemerna_hladina_glukozy  5110 non-null   int64\n",
      " 8   bmi                        5110 non-null   int64\n",
      " 9   fajcenie                   5110 non-null   int64\n",
      " 10  mrtvica                    5110 non-null   int64\n",
      "dtypes: int64(11)\n",
      "memory usage: 439.3 KB\n"
     ]
    }
   ],
   "source": [
    "# zobrazenie informácií o atribútoch v datasete\n",
    "df.info()"
   ]
  },
  {
   "cell_type": "code",
   "execution_count": 14,
   "metadata": {},
   "outputs": [
    {
     "data": {
      "text/plain": [
       "pohlavie                     0\n",
       "vek                          0\n",
       "krvny_tlak                   0\n",
       "srdcova_choroba              0\n",
       "manželstvo                   0\n",
       "typ_prace                    0\n",
       "typ_rezidencie               0\n",
       "priemerna_hladina_glukozy    0\n",
       "bmi                          0\n",
       "fajcenie                     0\n",
       "mrtvica                      0\n",
       "dtype: int64"
      ]
     },
     "execution_count": 14,
     "metadata": {},
     "output_type": "execute_result"
    }
   ],
   "source": [
    "# počet prazdných hodnôt v jednotlivých atribútoch\n",
    "df.isna().sum()"
   ]
  },
  {
   "cell_type": "code",
   "execution_count": 15,
   "metadata": {},
   "outputs": [],
   "source": [
    "# výber atribútov podľa asociačných pravidiel\n",
    "cols = [\"pohlavie\", \"vek\", \"manželstvo\", \"priemerna_hladina_glukozy\", \"fajcenie\", \"typ_prace\", \"typ_rezidencie\", \"bmi\"]\n"
   ]
  },
  {
   "cell_type": "code",
   "execution_count": 16,
   "metadata": {},
   "outputs": [
    {
     "data": {
      "text/html": [
       "<div>\n",
       "<style scoped>\n",
       "    .dataframe tbody tr th:only-of-type {\n",
       "        vertical-align: middle;\n",
       "    }\n",
       "\n",
       "    .dataframe tbody tr th {\n",
       "        vertical-align: top;\n",
       "    }\n",
       "\n",
       "    .dataframe thead th {\n",
       "        text-align: right;\n",
       "    }\n",
       "</style>\n",
       "<table border=\"1\" class=\"dataframe\">\n",
       "  <thead>\n",
       "    <tr style=\"text-align: right;\">\n",
       "      <th></th>\n",
       "      <th>pohlavie</th>\n",
       "      <th>vek</th>\n",
       "      <th>manželstvo</th>\n",
       "      <th>priemerna_hladina_glukozy</th>\n",
       "      <th>fajcenie</th>\n",
       "      <th>typ_prace</th>\n",
       "      <th>typ_rezidencie</th>\n",
       "      <th>bmi</th>\n",
       "    </tr>\n",
       "  </thead>\n",
       "  <tbody>\n",
       "    <tr>\n",
       "      <th>0</th>\n",
       "      <td>0.0</td>\n",
       "      <td>0.817073</td>\n",
       "      <td>1.0</td>\n",
       "      <td>0.800926</td>\n",
       "      <td>0.666667</td>\n",
       "      <td>0.00</td>\n",
       "      <td>0.0</td>\n",
       "      <td>0.298851</td>\n",
       "    </tr>\n",
       "    <tr>\n",
       "      <th>1</th>\n",
       "      <td>0.5</td>\n",
       "      <td>0.743902</td>\n",
       "      <td>1.0</td>\n",
       "      <td>0.680556</td>\n",
       "      <td>1.000000</td>\n",
       "      <td>0.25</td>\n",
       "      <td>1.0</td>\n",
       "      <td>0.206897</td>\n",
       "    </tr>\n",
       "    <tr>\n",
       "      <th>2</th>\n",
       "      <td>0.0</td>\n",
       "      <td>0.975610</td>\n",
       "      <td>1.0</td>\n",
       "      <td>0.231481</td>\n",
       "      <td>1.000000</td>\n",
       "      <td>0.00</td>\n",
       "      <td>1.0</td>\n",
       "      <td>0.252874</td>\n",
       "    </tr>\n",
       "    <tr>\n",
       "      <th>3</th>\n",
       "      <td>0.5</td>\n",
       "      <td>0.597561</td>\n",
       "      <td>1.0</td>\n",
       "      <td>0.537037</td>\n",
       "      <td>0.333333</td>\n",
       "      <td>0.00</td>\n",
       "      <td>0.0</td>\n",
       "      <td>0.275862</td>\n",
       "    </tr>\n",
       "    <tr>\n",
       "      <th>4</th>\n",
       "      <td>0.5</td>\n",
       "      <td>0.963415</td>\n",
       "      <td>1.0</td>\n",
       "      <td>0.550926</td>\n",
       "      <td>1.000000</td>\n",
       "      <td>0.25</td>\n",
       "      <td>1.0</td>\n",
       "      <td>0.160920</td>\n",
       "    </tr>\n",
       "  </tbody>\n",
       "</table>\n",
       "</div>"
      ],
      "text/plain": [
       "   pohlavie       vek  manželstvo  priemerna_hladina_glukozy  fajcenie  \\\n",
       "0       0.0  0.817073         1.0                   0.800926  0.666667   \n",
       "1       0.5  0.743902         1.0                   0.680556  1.000000   \n",
       "2       0.0  0.975610         1.0                   0.231481  1.000000   \n",
       "3       0.5  0.597561         1.0                   0.537037  0.333333   \n",
       "4       0.5  0.963415         1.0                   0.550926  1.000000   \n",
       "\n",
       "   typ_prace  typ_rezidencie       bmi  \n",
       "0       0.00             0.0  0.298851  \n",
       "1       0.25             1.0  0.206897  \n",
       "2       0.00             1.0  0.252874  \n",
       "3       0.00             0.0  0.275862  \n",
       "4       0.25             1.0  0.160920  "
      ]
     },
     "execution_count": 16,
     "metadata": {},
     "output_type": "execute_result"
    }
   ],
   "source": [
    "# normalizácia \n",
    "scaler = MinMaxScaler()\n",
    "df[cols] = scaler.fit_transform(df[cols])\n",
    "df[cols].head()"
   ]
  },
  {
   "cell_type": "code",
   "execution_count": 17,
   "metadata": {},
   "outputs": [],
   "source": [
    "# rozdelenie dát na trénovaciu a testovaciu časť (70:30)\n",
    "x = df[[\"pohlavie\", \"vek\", \"manželstvo\", \"priemerna_hladina_glukozy\", \"fajcenie\", \"typ_prace\", \"typ_rezidencie\", \"bmi\"]]\n",
    "y = df[\"mrtvica\"]\n",
    "x_train, x_test, y_train, y_test = train_test_split(x, y, test_size=0.3, random_state=1)\n"
   ]
  },
  {
   "cell_type": "code",
   "execution_count": 18,
   "metadata": {},
   "outputs": [],
   "source": [
    "# trénovanie a evaluácia modelu Naivný Bayes na atribútoch vybraných asociačnými pravidlami\n",
    "model_NB = GaussianNB().fit(x_train, y_train)\n",
    "y_pred_NB = model_NB.predict(x_test)"
   ]
  },
  {
   "cell_type": "code",
   "execution_count": 19,
   "metadata": {},
   "outputs": [
    {
     "name": "stdout",
     "output_type": "stream",
     "text": [
      "Hodnoty metrík:\n",
      "F1 Score: 0.2472\n",
      "Recall: 0.2651\n",
      "Accuracy: 0.9126\n",
      "Precision: 0.2316\n",
      "-----------------------------------------------------\n",
      "              precision    recall  f1-score   support\n",
      "\n",
      "           0       0.96      0.95      0.95      1450\n",
      "           1       0.23      0.27      0.25        83\n",
      "\n",
      "    accuracy                           0.91      1533\n",
      "   macro avg       0.59      0.61      0.60      1533\n",
      "weighted avg       0.92      0.91      0.92      1533\n",
      "\n",
      "-----------------------------------------------------\n"
     ]
    },
    {
     "data": {
      "image/png": "[encoded data removed]",
      "text/plain": [
       "<Figure size 600x500 with 2 Axes>"
      ]
     },
     "metadata": {},
     "output_type": "display_data"
    }
   ],
   "source": [
    "# výpočet metrík f1, recall, accuracy, precision\n",
    "f1 = f1_score(y_test, y_pred_NB)\n",
    "recall = recall_score(y_test, y_pred_NB)\n",
    "accuracy = accuracy_score(y_test, y_pred_NB)\n",
    "precision = precision_score(y_test, y_pred_NB)\n",
    "\n",
    "print(\"Hodnoty metrík:\")\n",
    "print(f\"F1 Score: {f1:.4f}\")\n",
    "print(f\"Recall: {recall:.4f}\")\n",
    "print(f\"Accuracy: {accuracy:.4f}\")\n",
    "print(f\"Precision: {precision:.4f}\")\n",
    "print(\"-----------------------------------------------------\")\n",
    "print(classification_report(y_test, y_pred_NB))\n",
    "print(\"-----------------------------------------------------\")\n",
    "\n",
    "# vytvorenie a vizualizácia matice zámen \n",
    "cm_adasyn = confusion_matrix(y_test, y_pred_NB)\n",
    "plt.figure(figsize=(6, 5))\n",
    "sns.heatmap(cm_adasyn, annot=True, fmt='d', cmap='Blues')\n",
    "plt.xlabel('Predikované', fontsize=14)\n",
    "plt.ylabel('Skutočné', fontsize=14)\n",
    "plt.title('Matica zámen')\n",
    "plt.show()"
   ]
  },
  {
   "cell_type": "code",
   "execution_count": 20,
   "metadata": {},
   "outputs": [
    {
     "name": "stdout",
     "output_type": "stream",
     "text": [
      " \n",
      "AUC: 0.60736\n",
      "-------------------------------------\n"
     ]
    },
    {
     "data": {
      "image/png": "[encoded data removed]",
      "text/plain": [
       "<Figure size 640x480 with 1 Axes>"
      ]
     },
     "metadata": {},
     "output_type": "display_data"
    }
   ],
   "source": [
    "# výpočet a zobrazenie ROC krivky a AUC (plochy pod ROC krivkou)\n",
    "auc_NB = roc_auc_score(y_test, y_pred_NB)\n",
    "roc_NB = RocCurveDisplay.from_predictions(y_test, y_pred_NB, color=\"purple\")\n",
    "\n",
    "print(\" \")\n",
    "print(f\"AUC: {auc_NB:.5f}\")\n",
    "print(\"-------------------------------------\")\n",
    "plt.show()"
   ]
  },
  {
   "cell_type": "code",
   "execution_count": 21,
   "metadata": {},
   "outputs": [],
   "source": [
    "from imblearn.over_sampling import ADASYN\n",
    "from sklearn.metrics import roc_auc_score\n",
    "from sklearn.naive_bayes import GaussianNB\n",
    "from sklearn.model_selection import train_test_split\n",
    "from sklearn.metrics import RocCurveDisplay\n",
    "\n",
    "# aplikovanie metódy ADASYN na vyváženie dát\n",
    "adasyn = ADASYN(sampling_strategy=1.0, n_neighbors=7, random_state=1)\n",
    "x_adasyn, y_adasyn = adasyn.fit_resample(x, y)\n",
    "\n",
    "# rozdelenie dát na trénovaciu a testovaciu časť (70:30)\n",
    "x_train_adasyn, x_test_adasyn, y_train_adasyn, y_test_adasyn = train_test_split(x_adasyn, y_adasyn, test_size=0.3, stratify=y_adasyn, random_state=1)\n"
   ]
  },
  {
   "cell_type": "code",
   "execution_count": 22,
   "metadata": {},
   "outputs": [],
   "source": [
    "# trénovanie a evaluácia modelu Naivný Bayes na vyvážených dátach\n",
    "model_NB_adasyn = GaussianNB().fit(x_train_adasyn, y_train_adasyn)\n",
    "y_pred_adasyn = model_NB_adasyn.predict(x_test_adasyn)"
   ]
  },
  {
   "cell_type": "code",
   "execution_count": 23,
   "metadata": {},
   "outputs": [
    {
     "name": "stdout",
     "output_type": "stream",
     "text": [
      "Hodnoty metrík (ADASYN dáta):\n",
      "F1 Score: 0.7697\n",
      "Recall: 0.8514\n",
      "Accuracy: 0.7439\n",
      "Precision: 0.7023\n",
      "-----------------------------------------------------\n",
      "              precision    recall  f1-score   support\n",
      "\n",
      "           0       0.81      0.64      0.71      1459\n",
      "           1       0.70      0.85      0.77      1474\n",
      "\n",
      "    accuracy                           0.74      2933\n",
      "   macro avg       0.76      0.74      0.74      2933\n",
      "weighted avg       0.76      0.74      0.74      2933\n",
      "\n",
      "-----------------------------------------------------\n"
     ]
    },
    {
     "data": {
      "image/png": "[encoded data removed]",
      "text/plain": [
       "<Figure size 600x500 with 2 Axes>"
      ]
     },
     "metadata": {},
     "output_type": "display_data"
    }
   ],
   "source": [
    "# výpočet metrík f1, recall, accuracy, precision\n",
    "f1_adasyn = f1_score(y_test_adasyn, y_pred_adasyn)\n",
    "recall_adasyn = recall_score(y_test_adasyn, y_pred_adasyn)\n",
    "accuracy_adasyn = accuracy_score(y_test_adasyn, y_pred_adasyn)\n",
    "precision_adasyn = precision_score(y_test_adasyn, y_pred_adasyn)\n",
    "\n",
    "print(\"Hodnoty metrík (ADASYN dáta):\")\n",
    "print(f\"F1 Score: {f1_adasyn:.4f}\")\n",
    "print(f\"Recall: {recall_adasyn:.4f}\")\n",
    "print(f\"Accuracy: {accuracy_adasyn:.4f}\")\n",
    "print(f\"Precision: {precision_adasyn:.4f}\")\n",
    "print(\"-----------------------------------------------------\")\n",
    "print(classification_report(y_test_adasyn, y_pred_adasyn))\n",
    "print(\"-----------------------------------------------------\")\n",
    "\n",
    "# vytvorenie a vizualizácia matice zámen \n",
    "cm_adasyn = confusion_matrix(y_test_adasyn, y_pred_adasyn)\n",
    "plt.figure(figsize=(6, 5))\n",
    "sns.heatmap(cm_adasyn, annot=True, fmt='d', cmap='Blues')\n",
    "plt.xlabel('Predikované', fontsize=14)\n",
    "plt.ylabel('Skutočné', fontsize=14)\n",
    "plt.title('Matica zámen (ADASYN dáta)')\n",
    "plt.show()"
   ]
  },
  {
   "cell_type": "code",
   "execution_count": 24,
   "metadata": {},
   "outputs": [
    {
     "name": "stdout",
     "output_type": "stream",
     "text": [
      " \n",
      "AUC: 0.74340\n",
      "-------------------------------------\n"
     ]
    },
    {
     "data": {
      "image/png": "[encoded data removed]",
      "text/plain": [
       "<Figure size 640x480 with 1 Axes>"
      ]
     },
     "metadata": {},
     "output_type": "display_data"
    }
   ],
   "source": [
    "# výpočet a zobrazenie ROC krivky a AUC (plochy pod ROC krivkou)\n",
    "auc_adasyn = roc_auc_score(y_test_adasyn, y_pred_adasyn)\n",
    "roc_adasyn = RocCurveDisplay.from_predictions(y_test_adasyn, y_pred_adasyn, color=\"green\")\n",
    "\n",
    "print(\" \")\n",
    "print(f\"AUC: {auc_adasyn:.5f}\")\n",
    "print(\"-------------------------------------\")\n",
    "plt.show()"
   ]
  }
 ],
 "metadata": {
  "kernelspec": {
   "display_name": "Python 3",
   "language": "python",
   "name": "python3"
  },
  "language_info": {
   "codemirror_mode": {
    "name": "ipython",
    "version": 3
   },
   "file_extension": ".py",
   "mimetype": "text/x-python",
   "name": "python",
   "nbconvert_exporter": "python",
   "pygments_lexer": "ipython3",
   "version": "3.11.2"
  }
 },
 "nbformat": 4,
 "nbformat_minor": 2
}
